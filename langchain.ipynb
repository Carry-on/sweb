from langchain.schema import HumanMessage
from langchain.chat_models import ChatOpenAI

# 创建OpenAI实例，并指定中转API的基础URL
llm = ChatOpenAI(
    model_name="gpt-4",
    max_tokens=1024,
    verbose=True,
    openai_api_base="https://xiaoai.one/v1",  # 替换为你的中转API URL
    openai_api_key="sk-YAG6jEHpKVR3XsMZBD9JTAPhdRTUYmPPqDARhVoHaXkR0pC2"
)

# 定义传递给模型的消息队列
messages = [HumanMessage(content="中国历史上有多少位皇帝")]

# 调用模型并打印结果
result = llm(messages)
print(result.content)
#################################################

from langchain_core.messages import HumanMessage, SystemMessage
from langchain_openai import ChatOpenAI

model = ChatOpenAI(model="gpt-4",
                   max_tokens=1024,
                   verbose=True,
                   openai_api_base="https://xiaoai.one/v1",
                   openai_api_key='sk-YAG6jEHpKVR3XsMZBD9JTAPhdRTUYmPPqDARhVoHaXkR0pC2')

# llm = ChatOpenAI(
#     model_name="gpt-4",
#     max_tokens=1024,
#     verbose=True,
#     openai_api_base="https://xiaoai.one/v1",  # 替换为你的中转API URL
#     openai_api_key="sk-YAG6jEHpKVR3XsMZBD9JTAPhdRTUYmPPqDARhVoHaXkR0pC2"
# )

messages = [
    SystemMessage(content="Translate the following from English to Chainese"),
    HumanMessage(content='Hi!')
]

# result = llm(messages)
# print(result.content)
model.invoke(messages)
